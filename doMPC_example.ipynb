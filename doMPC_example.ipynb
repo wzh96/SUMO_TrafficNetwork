{
 "cells": [
  {
   "cell_type": "code",
   "execution_count": null,
   "id": "initial_id",
   "metadata": {
    "collapsed": true,
    "ExecuteTime": {
     "start_time": "2024-07-15T22:28:16.266887Z"
    }
   },
   "outputs": [],
   "source": [
    "import traci\n",
    "import numpy as np\n",
    "import pandas as pd\n",
    "import pysindy as psd\n",
    "import do_mpc\n",
    "from Data_Cleaner import data_loader_main\n",
    "from SINDy import SINDy_Dynamics"
   ]
  },
  {
   "cell_type": "code",
   "outputs": [],
   "source": [
    "model_type = 'continuous'\n",
    "model = do_mpc.model.Model(model_type)"
   ],
   "metadata": {
    "collapsed": false,
    "ExecuteTime": {
     "start_time": "2024-07-15T22:28:16.265891Z"
    }
   },
   "id": "8b975915c176cd87",
   "execution_count": null
  },
  {
   "cell_type": "code",
   "outputs": [],
   "source": [
    "phi_1 = model.set_variable(var_type='_x', var_name='phi_1', shape=(1,1))\n",
    "phi_2 = model.set_variable(var_type='_x', var_name='phi_2', shape=(1,1))\n",
    "phi_3 = model.set_variable(var_type='_x', var_name='phi_3', shape=(1,1))\n",
    "# Variables can also be vectors:\n",
    "dphi = model.set_variable(var_type='_x', var_name='dphi', shape=(3,1))\n",
    "# Two states for the desired (set) motor position:\n",
    "phi_m_1_set = model.set_variable(var_type='_u', var_name='phi_m_1_set')\n",
    "phi_m_2_set = model.set_variable(var_type='_u', var_name='phi_m_2_set')\n",
    "# Two additional states for the true motor position:\n",
    "phi_1_m = model.set_variable(var_type='_x', var_name='phi_1_m', shape=(1,1))\n",
    "phi_2_m = model.set_variable(var_type='_x', var_name='phi_2_m', shape=(1,1))"
   ],
   "metadata": {
    "collapsed": false,
    "ExecuteTime": {
     "start_time": "2024-07-15T22:28:15.646221Z"
    }
   },
   "id": "4d1c36d69383c18",
   "execution_count": null
  },
  {
   "cell_type": "code",
   "outputs": [],
   "source": [
    "Theta_1 = model.set_variable(var_type=\"_p\", var_name=\"Theta_1\")\n",
    "Theta_2 = model.set_variable(var_type=\"_p\", var_name=\"Theta_2\")\n",
    "Theta_3 = model.set_variable(var_type=\"_p\", var_name=\"Theta_3\")\n",
    "\n",
    "c = np.array([2.697,  2.66,  3.05, 2.86])*1e-3\n",
    "d = np.array([6.78,  8.01,  8.82])*1e-5"
   ],
   "metadata": {
    "collapsed": false,
    "ExecuteTime": {
     "start_time": "2024-07-15T22:28:15.647220Z"
    }
   },
   "id": "be2ba665b2c1a681",
   "execution_count": null
  },
  {
   "cell_type": "code",
   "outputs": [],
   "source": [
    "# set RHS equations\n",
    "model.set_rhs('phi_1', dphi[0])\n",
    "model.set_rhs('phi_2', dphi[1])\n",
    "model.set_rhs('phi_3', dphi[2])"
   ],
   "metadata": {
    "collapsed": false
   },
   "id": "b94e126ac43f51ac",
   "execution_count": null
  },
  {
   "cell_type": "code",
   "outputs": [],
   "source": [
    "from casadi import *"
   ],
   "metadata": {
    "collapsed": false,
    "ExecuteTime": {
     "start_time": "2024-07-15T22:28:15.649220Z"
    }
   },
   "id": "c4dbb720b1a5a6d7",
   "execution_count": null
  },
  {
   "cell_type": "code",
   "outputs": [],
   "source": [
    "dphi_next = vertcat(\n",
    "    -c[0]/Theta_1*(phi_1-phi_1_m)-c[1]/Theta_1*(phi_1-phi_2)-d[0]/Theta_1*dphi[0],\n",
    "    -c[1]/Theta_2*(phi_2-phi_1)-c[2]/Theta_2*(phi_2-phi_3)-d[1]/Theta_2*dphi[1],\n",
    "    -c[2]/Theta_3*(phi_3-phi_2)-c[3]/Theta_3*(phi_3-phi_2_m)-d[2]/Theta_3*dphi[2],\n",
    ")\n",
    "model.set_rhs('dphi', dphi_next)"
   ],
   "metadata": {
    "collapsed": false,
    "ExecuteTime": {
     "start_time": "2024-07-15T22:28:15.650220Z"
    }
   },
   "id": "edd6d7b75a27bfbd",
   "execution_count": null
  },
  {
   "cell_type": "code",
   "outputs": [],
   "source": [
    "tau = 1e-2\n",
    "model.set_rhs('phi_1_m', 1/tau*(phi_m_1_set - phi_1_m))\n",
    "model.set_rhs('phi_2_m', 1/tau*(phi_m_2_set - phi_2_m))"
   ],
   "metadata": {
    "collapsed": false
   },
   "id": "c2e79e108936fbf1",
   "execution_count": null
  },
  {
   "cell_type": "code",
   "outputs": [],
   "source": [
    "model.rhs_list"
   ],
   "metadata": {
    "collapsed": false,
    "ExecuteTime": {
     "start_time": "2024-07-15T22:28:15.652220Z"
    }
   },
   "id": "ce338140e991fae2",
   "execution_count": null
  },
  {
   "cell_type": "code",
   "outputs": [],
   "source": [
    "model.setup()"
   ],
   "metadata": {
    "collapsed": false,
    "ExecuteTime": {
     "start_time": "2024-07-15T22:28:15.653223Z"
    }
   },
   "id": "b85ee4e7055df8a",
   "execution_count": null
  },
  {
   "cell_type": "markdown",
   "source": [
    "## Configuring the MPC controller"
   ],
   "metadata": {
    "collapsed": false
   },
   "id": "3555b50aefa3b383"
  },
  {
   "cell_type": "code",
   "outputs": [],
   "source": [
    "mpc = do_mpc.controller.MPC(model)"
   ],
   "metadata": {
    "collapsed": false,
    "ExecuteTime": {
     "start_time": "2024-07-15T22:28:15.654220Z"
    }
   },
   "id": "43805ee2e258d6fc",
   "execution_count": null
  },
  {
   "cell_type": "code",
   "outputs": [],
   "source": [
    "#parameters setup\n",
    "setup_mpc = {\n",
    "    'n_horizon': 20,\n",
    "    't_step': 0.1,\n",
    "    'n_robust': 1,\n",
    "    'store_full_solution': True,\n",
    "}\n",
    "mpc.set_param(**setup_mpc)"
   ],
   "metadata": {
    "collapsed": false,
    "ExecuteTime": {
     "start_time": "2024-07-15T22:28:15.655222Z"
    }
   },
   "id": "e29517187db817ab",
   "execution_count": null
  },
  {
   "cell_type": "code",
   "outputs": [],
   "source": [
    "mterm = phi_1**2 + phi_2**2 + phi_3**2\n",
    "lterm = phi_1**2 + phi_2**2 + phi_3**2\n",
    "\n",
    "mpc.set_objective(mterm=mterm, lterm=lterm)"
   ],
   "metadata": {
    "collapsed": false,
    "ExecuteTime": {
     "start_time": "2024-07-15T22:28:15.656220Z"
    }
   },
   "id": "d40088482af6afe8",
   "execution_count": null
  },
  {
   "cell_type": "code",
   "outputs": [],
   "source": [
    "mpc.set_rterm(\n",
    "    phi_m_1_set=1e-2,\n",
    "    phi_m_2_set=1e-2\n",
    ")"
   ],
   "metadata": {
    "collapsed": false,
    "ExecuteTime": {
     "start_time": "2024-07-15T22:28:15.657220Z"
    }
   },
   "id": "d034710a3d9b4c92",
   "execution_count": null
  },
  {
   "cell_type": "code",
   "outputs": [],
   "source": [
    "# Lower bounds on states:\n",
    "mpc.bounds['lower','_x', 'phi_1'] = -2*np.pi\n",
    "mpc.bounds['lower','_x', 'phi_2'] = -2*np.pi\n",
    "mpc.bounds['lower','_x', 'phi_3'] = -2*np.pi\n",
    "# Upper bounds on states\n",
    "mpc.bounds['upper','_x', 'phi_1'] = 2*np.pi\n",
    "mpc.bounds['upper','_x', 'phi_2'] = 2*np.pi\n",
    "mpc.bounds['upper','_x', 'phi_3'] = 2*np.pi\n",
    "\n",
    "# Lower bounds on inputs:\n",
    "mpc.bounds['lower','_u', 'phi_m_1_set'] = -2*np.pi\n",
    "mpc.bounds['lower','_u', 'phi_m_2_set'] = -2*np.pi\n",
    "# Lower bounds on inputs:\n",
    "mpc.bounds['upper','_u', 'phi_m_1_set'] = 2*np.pi\n",
    "mpc.bounds['upper','_u', 'phi_m_2_set'] = 2*np.pi"
   ],
   "metadata": {
    "collapsed": false,
    "ExecuteTime": {
     "start_time": "2024-07-15T22:28:15.658219Z"
    }
   },
   "id": "a23ab4d1e2bd31e",
   "execution_count": null
  },
  {
   "cell_type": "code",
   "outputs": [],
   "source": [
    "mpc.scaling['_x', 'phi_1'] = 2\n",
    "mpc.scaling['_x', 'phi_2'] = 2\n",
    "mpc.scaling['_x', 'phi_3'] = 2"
   ],
   "metadata": {
    "collapsed": false,
    "ExecuteTime": {
     "start_time": "2024-07-15T22:28:15.659222Z"
    }
   },
   "id": "733a51877c58a29b",
   "execution_count": null
  },
  {
   "cell_type": "code",
   "outputs": [],
   "source": [
    "inertia_mass_1 = 2.25*1e-4*np.array([1.])\n",
    "inertia_mass_2 = 2.25*1e-4*np.array([1.])\n",
    "inertia_mass_3 = 2.25*1e-4*np.array([1.])\n",
    "\n",
    "mpc.set_uncertainty_values(\n",
    "    Theta_1 = inertia_mass_1,\n",
    "    Theta_2 = inertia_mass_2,\n",
    "    Theta_3 = inertia_mass_3\n",
    ")"
   ],
   "metadata": {
    "collapsed": false,
    "ExecuteTime": {
     "start_time": "2024-07-15T22:28:15.660220Z"
    }
   },
   "id": "ee0a4ed43335ab7c",
   "execution_count": null
  },
  {
   "cell_type": "code",
   "outputs": [],
   "source": [
    "mpc.setup()"
   ],
   "metadata": {
    "collapsed": false,
    "ExecuteTime": {
     "start_time": "2024-07-15T22:28:15.661222Z"
    }
   },
   "id": "7be7cbbf43c93931",
   "execution_count": null
  },
  {
   "cell_type": "markdown",
   "source": [
    "## Configuring the Simulator"
   ],
   "metadata": {
    "collapsed": false
   },
   "id": "5cb63c75c3887b6b"
  },
  {
   "cell_type": "code",
   "outputs": [],
   "source": [
    "simulator = do_mpc.simulator.Simulator(model)"
   ],
   "metadata": {
    "collapsed": false,
    "ExecuteTime": {
     "start_time": "2024-07-15T22:28:15.662220Z"
    }
   },
   "id": "4924f041937469f",
   "execution_count": null
  },
  {
   "cell_type": "code",
   "outputs": [],
   "source": [
    "# Instead of supplying a dict with the splat operator (**), as with the optimizer.set_param(),\n",
    "# we can also use keywords (and call the method multiple times, if necessary):\n",
    "simulator.set_param(t_step = 0.1)"
   ],
   "metadata": {
    "collapsed": false,
    "ExecuteTime": {
     "start_time": "2024-07-15T22:28:15.663220Z"
    }
   },
   "id": "b04fc6e0cc7f7ba0",
   "execution_count": null
  },
  {
   "cell_type": "code",
   "outputs": [],
   "source": [
    "p_template = simulator.get_p_template()"
   ],
   "metadata": {
    "collapsed": false,
    "ExecuteTime": {
     "start_time": "2024-07-15T22:28:15.664220Z"
    }
   },
   "id": "eb41efe0854b5e1e",
   "execution_count": null
  },
  {
   "cell_type": "code",
   "outputs": [],
   "source": [
    "type(p_template)"
   ],
   "metadata": {
    "collapsed": false,
    "ExecuteTime": {
     "start_time": "2024-07-15T22:28:15.665221Z"
    }
   },
   "id": "1104abf3c0f0ce19",
   "execution_count": null
  },
  {
   "cell_type": "code",
   "outputs": [],
   "source": [
    "p_template.keys()"
   ],
   "metadata": {
    "collapsed": false,
    "ExecuteTime": {
     "start_time": "2024-07-15T22:28:15.666221Z"
    }
   },
   "id": "38630f6d54e436aa",
   "execution_count": null
  },
  {
   "cell_type": "code",
   "outputs": [],
   "source": [
    "def p_fun(t_now):\n",
    "    p_template['Theta_1'] = 2.25e-4\n",
    "    p_template['Theta_2'] = 2.25e-4\n",
    "    p_template['Theta_3'] = 2.25e-4\n",
    "    return p_template"
   ],
   "metadata": {
    "collapsed": false,
    "ExecuteTime": {
     "start_time": "2024-07-15T22:28:15.667220Z"
    }
   },
   "id": "141c4a7493ade170",
   "execution_count": null
  },
  {
   "cell_type": "code",
   "outputs": [],
   "source": [
    "simulator.set_p_fun(p_fun)"
   ],
   "metadata": {
    "collapsed": false,
    "ExecuteTime": {
     "start_time": "2024-07-15T22:28:15.668221Z"
    }
   },
   "id": "5defaefbec50069f",
   "execution_count": null
  },
  {
   "cell_type": "code",
   "outputs": [],
   "source": [
    "simulator.setup()"
   ],
   "metadata": {
    "collapsed": false,
    "ExecuteTime": {
     "start_time": "2024-07-15T22:28:15.669220Z"
    }
   },
   "id": "51fea5d23f69234c",
   "execution_count": null
  },
  {
   "cell_type": "code",
   "outputs": [],
   "source": [],
   "metadata": {
    "collapsed": false
   },
   "id": "60f7b90cd5fbbc28",
   "execution_count": null
  },
  {
   "cell_type": "code",
   "outputs": [],
   "source": [
    "x0 = np.pi*np.array([1, 1, -1.5, 1, -1, 1, 0, 0]).reshape(-1,1)"
   ],
   "metadata": {
    "collapsed": false
   },
   "id": "830b75fd38f4f47b",
   "execution_count": null
  },
  {
   "cell_type": "code",
   "outputs": [],
   "source": [
    "simulator.x0 = x0\n",
    "# mpc.x0 = x0"
   ],
   "metadata": {
    "collapsed": false,
    "ExecuteTime": {
     "start_time": "2024-07-15T22:28:15.674221Z"
    }
   },
   "id": "59b536b1c43c11db",
   "execution_count": null
  },
  {
   "cell_type": "code",
   "outputs": [
    {
     "ename": "NameError",
     "evalue": "name 'mpc' is not defined",
     "output_type": "error",
     "traceback": [
      "\u001B[1;31m---------------------------------------------------------------------------\u001B[0m",
      "\u001B[1;31mNameError\u001B[0m                                 Traceback (most recent call last)",
      "Cell \u001B[1;32mIn[3], line 1\u001B[0m\n\u001B[1;32m----> 1\u001B[0m \u001B[43mmpc\u001B[49m\u001B[38;5;241m.\u001B[39mx0\u001B[38;5;241m.\u001B[39mkeys()\n",
      "\u001B[1;31mNameError\u001B[0m: name 'mpc' is not defined"
     ]
    }
   ],
   "source": [
    "mpc.x0.keys()"
   ],
   "metadata": {
    "collapsed": false
   },
   "id": "1c1f136a832656f5",
   "execution_count": 3
  },
  {
   "cell_type": "code",
   "outputs": [
    {
     "ename": "NameError",
     "evalue": "name 'mpc' is not defined",
     "output_type": "error",
     "traceback": [
      "\u001B[1;31m---------------------------------------------------------------------------\u001B[0m",
      "\u001B[1;31mNameError\u001B[0m                                 Traceback (most recent call last)",
      "Cell \u001B[1;32mIn[4], line 1\u001B[0m\n\u001B[1;32m----> 1\u001B[0m \u001B[43mmpc\u001B[49m\u001B[38;5;241m.\u001B[39mx0[\u001B[38;5;124m'\u001B[39m\u001B[38;5;124mphi_1\u001B[39m\u001B[38;5;124m'\u001B[39m]\n",
      "\u001B[1;31mNameError\u001B[0m: name 'mpc' is not defined"
     ]
    }
   ],
   "source": [
    "mpc.x0['phi_1']"
   ],
   "metadata": {
    "collapsed": false,
    "ExecuteTime": {
     "end_time": "2024-07-15T22:28:15.752306Z",
     "start_time": "2024-07-15T22:28:15.738307Z"
    }
   },
   "id": "d94d1f4775ddb82a",
   "execution_count": 4
  },
  {
   "cell_type": "code",
   "outputs": [
    {
     "ename": "NameError",
     "evalue": "name 'mpc' is not defined",
     "output_type": "error",
     "traceback": [
      "\u001B[1;31m---------------------------------------------------------------------------\u001B[0m",
      "\u001B[1;31mNameError\u001B[0m                                 Traceback (most recent call last)",
      "Cell \u001B[1;32mIn[5], line 1\u001B[0m\n\u001B[1;32m----> 1\u001B[0m \u001B[43mmpc\u001B[49m\u001B[38;5;241m.\u001B[39mset_initial_guess()\n",
      "\u001B[1;31mNameError\u001B[0m: name 'mpc' is not defined"
     ]
    }
   ],
   "source": [
    "mpc.set_initial_guess()"
   ],
   "metadata": {
    "collapsed": false,
    "ExecuteTime": {
     "end_time": "2024-07-15T22:28:15.784311Z",
     "start_time": "2024-07-15T22:28:15.759307Z"
    }
   },
   "id": "f998b5fa27775e6e",
   "execution_count": 5
  },
  {
   "cell_type": "markdown",
   "source": [
    "# Setting up the Graphic"
   ],
   "metadata": {
    "collapsed": false
   },
   "id": "b2a6d843d58ac13b"
  },
  {
   "cell_type": "code",
   "outputs": [],
   "source": [
    "import matplotlib.pyplot as plt\n",
    "import matplotlib as mpl\n",
    "# Customizing Matplotlib:\n",
    "mpl.rcParams['font.size'] = 18\n",
    "mpl.rcParams['lines.linewidth'] = 3\n",
    "mpl.rcParams['axes.grid'] = True"
   ],
   "metadata": {
    "collapsed": false,
    "ExecuteTime": {
     "end_time": "2024-07-15T22:28:16.197887Z",
     "start_time": "2024-07-15T22:28:15.806824Z"
    }
   },
   "id": "290906c1a5f4e46a",
   "execution_count": 6
  },
  {
   "cell_type": "code",
   "outputs": [
    {
     "ename": "NameError",
     "evalue": "name 'do_mpc' is not defined",
     "output_type": "error",
     "traceback": [
      "\u001B[1;31m---------------------------------------------------------------------------\u001B[0m",
      "\u001B[1;31mNameError\u001B[0m                                 Traceback (most recent call last)",
      "Cell \u001B[1;32mIn[7], line 1\u001B[0m\n\u001B[1;32m----> 1\u001B[0m mpc_graphics \u001B[38;5;241m=\u001B[39m \u001B[43mdo_mpc\u001B[49m\u001B[38;5;241m.\u001B[39mgraphics\u001B[38;5;241m.\u001B[39mGraphics(mpc\u001B[38;5;241m.\u001B[39mdata)\n\u001B[0;32m      2\u001B[0m sim_graphics \u001B[38;5;241m=\u001B[39m do_mpc\u001B[38;5;241m.\u001B[39mgraphics\u001B[38;5;241m.\u001B[39mGraphics(simulator\u001B[38;5;241m.\u001B[39mdata)\n",
      "\u001B[1;31mNameError\u001B[0m: name 'do_mpc' is not defined"
     ]
    }
   ],
   "source": [
    "mpc_graphics = do_mpc.graphics.Graphics(mpc.data)\n",
    "sim_graphics = do_mpc.graphics.Graphics(simulator.data)"
   ],
   "metadata": {
    "collapsed": false,
    "ExecuteTime": {
     "end_time": "2024-07-15T22:28:16.245888Z",
     "start_time": "2024-07-15T22:28:16.199887Z"
    }
   },
   "id": "aa84866d526efbee",
   "execution_count": 7
  },
  {
   "cell_type": "code",
   "outputs": [],
   "source": [
    "%%capture\n",
    "# We just want to create the plot and not show it right now. This \"inline magic\" supresses the output.\n",
    "fig, ax = plt.subplots(2, sharex=True, figsize=(16,9))\n",
    "fig.align_ylabels()"
   ],
   "metadata": {
    "collapsed": false,
    "ExecuteTime": {
     "start_time": "2024-07-15T22:28:16.247888Z"
    }
   },
   "id": "c1f004ff44d2961c",
   "execution_count": null
  },
  {
   "cell_type": "code",
   "outputs": [],
   "source": [
    "%%capture\n",
    "for g in [sim_graphics, mpc_graphics]:\n",
    "    # Plot the angle positions (phi_1, phi_2, phi_2) on the first axis:\n",
    "    g.add_line(var_type='_x', var_name='phi_1', axis=ax[0])\n",
    "    g.add_line(var_type='_x', var_name='phi_2', axis=ax[0])\n",
    "    g.add_line(var_type='_x', var_name='phi_3', axis=ax[0])\n",
    "\n",
    "    # Plot the set motor positions (phi_m_1_set, phi_m_2_set) on the second axis:\n",
    "    g.add_line(var_type='_u', var_name='phi_m_1_set', axis=ax[1])\n",
    "    g.add_line(var_type='_u', var_name='phi_m_2_set', axis=ax[1])\n",
    "\n",
    "\n",
    "ax[0].set_ylabel('angle position [rad]')\n",
    "ax[1].set_ylabel('motor angle [rad]')\n",
    "ax[1].set_xlabel('time [s]')"
   ],
   "metadata": {
    "collapsed": false
   },
   "id": "cae26213a3fae16",
   "execution_count": null
  },
  {
   "cell_type": "markdown",
   "source": [
    "## Running the Simulator"
   ],
   "metadata": {
    "collapsed": false
   },
   "id": "a94add89ad70f624"
  },
  {
   "cell_type": "code",
   "outputs": [],
   "source": [
    "u0 = np.zeros((2,1))\n",
    "for i in range(200):\n",
    "    simulator.make_step(u0)"
   ],
   "metadata": {
    "collapsed": false,
    "ExecuteTime": {
     "start_time": "2024-07-15T22:28:16.248888Z"
    }
   },
   "id": "5b55e155ae59b2ad",
   "execution_count": null
  },
  {
   "cell_type": "code",
   "outputs": [],
   "source": [
    "sim_graphics.plot_results()\n",
    "# Reset the limits on all axes in graphic to show the data.\n",
    "sim_graphics.reset_axes()\n",
    "# Show the figure:\n",
    "fig"
   ],
   "metadata": {
    "collapsed": false,
    "ExecuteTime": {
     "start_time": "2024-07-15T22:28:16.249888Z"
    }
   },
   "id": "f4be870b61ddf59d",
   "execution_count": null
  },
  {
   "cell_type": "markdown",
   "source": [
    "## Running the Optimizer"
   ],
   "metadata": {
    "collapsed": false
   },
   "id": "dfe10c22023788f8"
  },
  {
   "cell_type": "code",
   "outputs": [],
   "source": [
    "u0 = mpc.make_step(x0)"
   ],
   "metadata": {
    "collapsed": false,
    "ExecuteTime": {
     "start_time": "2024-07-15T22:28:16.250888Z"
    }
   },
   "id": "2c0e1b8d2e46350d",
   "execution_count": null
  },
  {
   "cell_type": "code",
   "outputs": [],
   "source": [
    "sim_graphics.clear()"
   ],
   "metadata": {
    "collapsed": false,
    "ExecuteTime": {
     "start_time": "2024-07-15T22:28:16.251888Z"
    }
   },
   "id": "da746b92c30a728d",
   "execution_count": null
  },
  {
   "cell_type": "code",
   "outputs": [],
   "source": [
    "mpc_graphics.plot_predictions()\n",
    "mpc_graphics.reset_axes()\n",
    "# Show the figure:\n",
    "fig"
   ],
   "metadata": {
    "collapsed": false,
    "ExecuteTime": {
     "start_time": "2024-07-15T22:28:16.252888Z"
    }
   },
   "id": "e428036338dddf4f",
   "execution_count": null
  },
  {
   "cell_type": "markdown",
   "source": [
    "## Changing the line appearance"
   ],
   "metadata": {
    "collapsed": false
   },
   "id": "45d0cd427618fc6b"
  },
  {
   "cell_type": "code",
   "outputs": [],
   "source": [
    "mpc_graphics.pred_lines"
   ],
   "metadata": {
    "collapsed": false,
    "ExecuteTime": {
     "start_time": "2024-07-15T22:28:16.253888Z"
    }
   },
   "id": "78ea43f91e921d68",
   "execution_count": null
  },
  {
   "cell_type": "code",
   "outputs": [],
   "source": [
    "mpc_graphics.pred_lines['_x', 'phi_1']"
   ],
   "metadata": {
    "collapsed": false,
    "ExecuteTime": {
     "start_time": "2024-07-15T22:28:16.253888Z"
    }
   },
   "id": "a3dcb97afcdd5af1",
   "execution_count": null
  },
  {
   "cell_type": "code",
   "outputs": [],
   "source": [
    "# Change the color for the three states:\n",
    "for line_i in mpc_graphics.pred_lines['_x', 'phi_1']: line_i.set_color('#1f77b4') # blue\n",
    "for line_i in mpc_graphics.pred_lines['_x', 'phi_2']: line_i.set_color('#ff7f0e') # orange\n",
    "for line_i in mpc_graphics.pred_lines['_x', 'phi_3']: line_i.set_color('#2ca02c') # green\n",
    "# Change the color for the two inputs:\n",
    "for line_i in mpc_graphics.pred_lines['_u', 'phi_m_1_set']: line_i.set_color('#1f77b4')\n",
    "for line_i in mpc_graphics.pred_lines['_u', 'phi_m_2_set']: line_i.set_color('#ff7f0e')\n",
    "\n",
    "# Make all predictions transparent:\n",
    "for line_i in mpc_graphics.pred_lines.full: line_i.set_alpha(0.2)"
   ],
   "metadata": {
    "collapsed": false,
    "ExecuteTime": {
     "start_time": "2024-07-15T22:28:16.254887Z"
    }
   },
   "id": "cf74c944e6522491",
   "execution_count": null
  },
  {
   "cell_type": "code",
   "outputs": [],
   "source": [
    "# Get line objects (note sum of lists creates a concatenated list)\n",
    "lines = sim_graphics.result_lines['_x', 'phi_1']+sim_graphics.result_lines['_x', 'phi_2']+sim_graphics.result_lines['_x', 'phi_3']\n",
    "\n",
    "ax[0].legend(lines,'123',title='disc')\n",
    "\n",
    "# also set legend for second subplot:\n",
    "lines = sim_graphics.result_lines['_u', 'phi_m_1_set']+sim_graphics.result_lines['_u', 'phi_m_2_set']\n",
    "ax[1].legend(lines,'12',title='motor')"
   ],
   "metadata": {
    "collapsed": false,
    "ExecuteTime": {
     "start_time": "2024-07-15T22:28:16.255889Z"
    }
   },
   "id": "d3dda5887529a0b9",
   "execution_count": null
  },
  {
   "cell_type": "markdown",
   "source": [
    "## Running the control loop"
   ],
   "metadata": {
    "collapsed": false
   },
   "id": "d9bf341172604b7c"
  },
  {
   "cell_type": "code",
   "outputs": [],
   "source": [
    "simulator.reset_history()\n",
    "simulator.x0 = x0\n",
    "mpc.reset_history()"
   ],
   "metadata": {
    "collapsed": false,
    "ExecuteTime": {
     "start_time": "2024-07-15T22:28:16.255889Z"
    }
   },
   "id": "452430451fbb3537",
   "execution_count": null
  },
  {
   "cell_type": "code",
   "outputs": [],
   "source": [
    "%%capture\n",
    "for i in range(20):\n",
    "    u0 = mpc.make_step(x0)\n",
    "    x0 = simulator.make_step(u0)"
   ],
   "metadata": {
    "collapsed": false,
    "ExecuteTime": {
     "start_time": "2024-07-15T22:28:16.256890Z"
    }
   },
   "id": "e868e70c37e6adb5",
   "execution_count": null
  },
  {
   "cell_type": "code",
   "outputs": [],
   "source": [
    "# Plot predictions from t=0\n",
    "mpc_graphics.plot_predictions(t_ind=0)\n",
    "# Plot results until current time\n",
    "sim_graphics.plot_results()\n",
    "sim_graphics.reset_axes()\n",
    "fig"
   ],
   "metadata": {
    "collapsed": false,
    "ExecuteTime": {
     "start_time": "2024-07-15T22:28:16.257889Z"
    }
   },
   "id": "5feb4ff87effe000",
   "execution_count": null
  },
  {
   "cell_type": "markdown",
   "source": [
    "}## Data processing"
   ],
   "metadata": {
    "collapsed": false
   },
   "id": "98e9b78cc7093012"
  },
  {
   "cell_type": "code",
   "outputs": [],
   "source": [
    "from do_mpc.data import save_results, load_results"
   ],
   "metadata": {
    "collapsed": false,
    "ExecuteTime": {
     "start_time": "2024-07-15T22:28:16.257889Z"
    }
   },
   "id": "fe89048043715df0",
   "execution_count": null
  },
  {
   "cell_type": "code",
   "outputs": [],
   "source": [
    "save_results([mpc, simulator])"
   ],
   "metadata": {
    "collapsed": false,
    "ExecuteTime": {
     "start_time": "2024-07-15T22:28:16.258889Z"
    }
   },
   "id": "455b2041bdac4d46",
   "execution_count": null
  },
  {
   "cell_type": "code",
   "outputs": [],
   "source": [
    "results = load_results('./results/results.pkl')"
   ],
   "metadata": {
    "collapsed": false,
    "ExecuteTime": {
     "start_time": "2024-07-15T22:28:16.259890Z"
    }
   },
   "id": "c9b17d5ec432f1ec",
   "execution_count": null
  },
  {
   "cell_type": "markdown",
   "source": [
    "## Animating results"
   ],
   "metadata": {
    "collapsed": false
   },
   "id": "f99a379065dde491"
  },
  {
   "cell_type": "code",
   "outputs": [],
   "source": [
    "from matplotlib.animation import FuncAnimation, PillowWriter\n",
    "\n",
    "def update(t_ind):\n",
    "    sim_graphics.plot_results(t_ind)\n",
    "    mpc_graphics.plot_predictions(t_ind)\n",
    "    mpc_graphics.reset_axes()"
   ],
   "metadata": {
    "collapsed": false,
    "ExecuteTime": {
     "start_time": "2024-07-15T22:28:16.260889Z"
    }
   },
   "id": "8cc8e0c34683a4e",
   "execution_count": null
  },
  {
   "cell_type": "code",
   "outputs": [],
   "source": [
    "anim = FuncAnimation(fig, update, frames=20, repeat=False)\n",
    "gif_writer = PillowWriter(fps=10)"
   ],
   "metadata": {
    "collapsed": false,
    "ExecuteTime": {
     "start_time": "2024-07-15T22:28:16.261889Z"
    }
   },
   "id": "d9c50f8451b5570a",
   "execution_count": null
  },
  {
   "cell_type": "code",
   "outputs": [],
   "source": [
    "anim.save('anim.gif', writer=gif_writer)"
   ],
   "metadata": {
    "collapsed": false,
    "ExecuteTime": {
     "start_time": "2024-07-15T22:28:16.262887Z"
    }
   },
   "id": "6d6b45d4495bd160",
   "execution_count": null
  },
  {
   "cell_type": "code",
   "outputs": [],
   "source": [],
   "metadata": {
    "collapsed": false,
    "ExecuteTime": {
     "start_time": "2024-07-15T22:28:16.263887Z"
    }
   },
   "id": "4fc7e9d667f2e10d"
  },
  {
   "cell_type": "code",
   "outputs": [],
   "source": [],
   "metadata": {
    "collapsed": false
   },
   "id": "97f58f4fbe80ab6e"
  }
 ],
 "metadata": {
  "kernelspec": {
   "display_name": "Python 3",
   "language": "python",
   "name": "python3"
  },
  "language_info": {
   "codemirror_mode": {
    "name": "ipython",
    "version": 2
   },
   "file_extension": ".py",
   "mimetype": "text/x-python",
   "name": "python",
   "nbconvert_exporter": "python",
   "pygments_lexer": "ipython2",
   "version": "2.7.6"
  }
 },
 "nbformat": 4,
 "nbformat_minor": 5
}
