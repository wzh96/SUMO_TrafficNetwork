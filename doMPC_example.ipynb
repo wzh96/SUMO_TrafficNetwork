{
 "cells": [
  {
   "cell_type": "code",
   "execution_count": 2,
   "id": "initial_id",
   "metadata": {
    "collapsed": true,
    "ExecuteTime": {
     "end_time": "2024-07-12T20:27:17.393190Z",
     "start_time": "2024-07-12T20:27:15.078578Z"
    }
   },
   "outputs": [],
   "source": [
    "import traci\n",
    "import numpy as np\n",
    "import pandas as pd\n",
    "import pysindy as psd\n",
    "import do_mpc"
   ]
  },
  {
   "cell_type": "code",
   "outputs": [],
   "source": [
    "model_type = 'continuous'\n",
    "model = do_mpc.model.Model(model_type)"
   ],
   "metadata": {
    "collapsed": false,
    "ExecuteTime": {
     "end_time": "2024-07-12T20:27:17.409191Z",
     "start_time": "2024-07-12T20:27:17.394190Z"
    }
   },
   "id": "b0fb8a4b512c98f9",
   "execution_count": 3
  },
  {
   "cell_type": "code",
   "outputs": [],
   "source": [
    "phi_1 = model.set_variable(var_type='_x', var_name='phi_1', shape=(1,1))\n",
    "phi_2 = model.set_variable(var_type='_x', var_name='phi_2', shape=(1,1))\n",
    "phi_3 = model.set_variable(var_type='_x', var_name='phi_3', shape=(1,1))\n",
    "# Variables can also be vectors:\n",
    "dphi = model.set_variable(var_type='_x', var_name='dphi', shape=(3,1))\n",
    "# Two states for the desired (set) motor position:\n",
    "phi_m_1_set = model.set_variable(var_type='_u', var_name='phi_m_1_set')\n",
    "phi_m_2_set = model.set_variable(var_type='_u', var_name='phi_m_2_set')\n",
    "# Two additional states for the true motor position:\n",
    "phi_1_m = model.set_variable(var_type='_x', var_name='phi_1_m', shape=(1,1))\n",
    "phi_2_m = model.set_variable(var_type='_x', var_name='phi_2_m', shape=(1,1))"
   ],
   "metadata": {
    "collapsed": false,
    "ExecuteTime": {
     "end_time": "2024-07-12T20:27:17.424192Z",
     "start_time": "2024-07-12T20:27:17.410192Z"
    }
   },
   "id": "4d1c36d69383c18",
   "execution_count": 4
  },
  {
   "cell_type": "code",
   "outputs": [
    {
     "name": "stdout",
     "output_type": "stream",
     "text": [
      "phi_1=phi_1, with phi_1.shape=(1, 1)\n",
      "dphi=[dphi_0, dphi_1, dphi_2], with dphi.shape=(3, 1)\n"
     ]
    }
   ],
   "source": [
    "print('phi_1={}, with phi_1.shape={}'.format(phi_1, phi_1.shape))\n",
    "print('dphi={}, with dphi.shape={}'.format(dphi, dphi.shape))"
   ],
   "metadata": {
    "collapsed": false,
    "ExecuteTime": {
     "end_time": "2024-07-12T20:27:17.439196Z",
     "start_time": "2024-07-12T20:27:17.425196Z"
    }
   },
   "id": "2c52acd8c8a89e26",
   "execution_count": 5
  },
  {
   "cell_type": "code",
   "outputs": [
    {
     "data": {
      "text/plain": "['phi_1', 'phi_2', 'phi_3', 'dphi', 'phi_1_m', 'phi_2_m']"
     },
     "execution_count": 6,
     "metadata": {},
     "output_type": "execute_result"
    }
   ],
   "source": [
    "model.x.keys()"
   ],
   "metadata": {
    "collapsed": false,
    "ExecuteTime": {
     "end_time": "2024-07-12T20:27:17.710258Z",
     "start_time": "2024-07-12T20:27:17.685258Z"
    }
   },
   "id": "7ec887777fa7976c",
   "execution_count": 6
  },
  {
   "cell_type": "code",
   "outputs": [
    {
     "data": {
      "text/plain": "['[phi_1,0]',\n '[phi_2,0]',\n '[phi_3,0]',\n '[dphi,0]',\n '[dphi,1]',\n '[dphi,2]',\n '[phi_1_m,0]',\n '[phi_2_m,0]']"
     },
     "execution_count": 7,
     "metadata": {},
     "output_type": "execute_result"
    }
   ],
   "source": [
    "model.x.labels()"
   ],
   "metadata": {
    "collapsed": false,
    "ExecuteTime": {
     "end_time": "2024-07-12T20:27:35.388016Z",
     "start_time": "2024-07-12T20:27:35.381016Z"
    }
   },
   "id": "6de308bd0f3481bd",
   "execution_count": 7
  },
  {
   "cell_type": "code",
   "outputs": [],
   "source": [
    "Theta_1 = model.set_variable(var_type=\"_p\", var_name=\"Theta_1\")\n",
    "Theta_2 = model.set_variable(var_type=\"_p\", var_name=\"Theta_2\")\n",
    "Theta_3 = model.set_variable(var_type=\"_p\", var_name=\"Theta_3\")\n",
    "\n",
    "c = np.array([2.697,  2.66,  3.05, 2.86])*1e-3\n",
    "d = np.array([6.78,  8.01,  8.82])*1e-5"
   ],
   "metadata": {
    "collapsed": false,
    "ExecuteTime": {
     "end_time": "2024-07-12T21:22:48.304573Z",
     "start_time": "2024-07-12T21:22:48.285569Z"
    }
   },
   "id": "be2ba665b2c1a681",
   "execution_count": 13
  },
  {
   "cell_type": "code",
   "outputs": [],
   "source": [
    "# set RHS equations\n",
    "model.set_rhs('phi_1', dphi[0])\n",
    "model.set_rhs('phi_2', dphi[1])\n",
    "model.set_rhs('phi_3', dphi[2])"
   ],
   "metadata": {
    "collapsed": false,
    "ExecuteTime": {
     "end_time": "2024-07-12T21:22:48.587795Z",
     "start_time": "2024-07-12T21:22:48.583120Z"
    }
   },
   "id": "b94e126ac43f51ac",
   "execution_count": 14
  },
  {
   "cell_type": "code",
   "outputs": [],
   "source": [
    "from casadi import *"
   ],
   "metadata": {
    "collapsed": false,
    "ExecuteTime": {
     "end_time": "2024-07-12T21:22:49.119038Z",
     "start_time": "2024-07-12T21:22:49.115156Z"
    }
   },
   "id": "c4dbb720b1a5a6d7",
   "execution_count": 15
  },
  {
   "cell_type": "code",
   "outputs": [],
   "source": [
    "dphi_next = vertcat(\n",
    "    -c[0]/Theta_1*(phi_1-phi_1_m)-c[1]/Theta_1*(phi_1-phi_2)-d[0]/Theta_1*dphi[0],\n",
    "    -c[1]/Theta_2*(phi_2-phi_1)-c[2]/Theta_2*(phi_2-phi_3)-d[1]/Theta_2*dphi[1],\n",
    "    -c[2]/Theta_3*(phi_3-phi_2)-c[3]/Theta_3*(phi_3-phi_2_m)-d[2]/Theta_3*dphi[2],\n",
    ")\n",
    "model.set_rhs('dphi', dphi_next)"
   ],
   "metadata": {
    "collapsed": false,
    "ExecuteTime": {
     "end_time": "2024-07-12T21:22:49.669132Z",
     "start_time": "2024-07-12T21:22:49.650134Z"
    }
   },
   "id": "edd6d7b75a27bfbd",
   "execution_count": 16
  },
  {
   "cell_type": "code",
   "outputs": [],
   "source": [
    "tau = 1e-2\n",
    "model.set_rhs('phi_1_m', 1/tau*(phi_m_1_set - phi_1_m))\n",
    "model.set_rhs('phi_2_m', 1/tau*(phi_m_2_set - phi_2_m))"
   ],
   "metadata": {
    "collapsed": false,
    "ExecuteTime": {
     "end_time": "2024-07-12T21:22:50.657669Z",
     "start_time": "2024-07-12T21:22:50.648478Z"
    }
   },
   "id": "c2e79e108936fbf1",
   "execution_count": 17
  },
  {
   "cell_type": "code",
   "outputs": [],
   "source": [
    "model.setup()"
   ],
   "metadata": {
    "collapsed": false,
    "ExecuteTime": {
     "end_time": "2024-07-12T21:23:01.671848Z",
     "start_time": "2024-07-12T21:23:01.640753Z"
    }
   },
   "id": "b85ee4e7055df8a",
   "execution_count": 18
  },
  {
   "cell_type": "code",
   "outputs": [],
   "source": [
    "mpc = do_mpc.controller.MPC(model)"
   ],
   "metadata": {
    "collapsed": false,
    "ExecuteTime": {
     "end_time": "2024-07-12T21:42:26.077310Z",
     "start_time": "2024-07-12T21:42:26.060790Z"
    }
   },
   "id": "43805ee2e258d6fc",
   "execution_count": 21
  },
  {
   "cell_type": "code",
   "outputs": [],
   "source": [
    "#parameters setup\n",
    "setup_mpc = {\n",
    "    'n_horizon': 20,\n",
    "    't_step': 0.1,\n",
    "    'n_robust': 1,\n",
    "    'store_full_solution': True,\n",
    "}\n",
    "mpc.set_param(**setup_mpc)"
   ],
   "metadata": {
    "collapsed": false,
    "ExecuteTime": {
     "end_time": "2024-07-12T21:42:26.453151Z",
     "start_time": "2024-07-12T21:42:26.444150Z"
    }
   },
   "id": "e29517187db817ab",
   "execution_count": 22
  },
  {
   "cell_type": "code",
   "outputs": [],
   "source": [],
   "metadata": {
    "collapsed": false
   },
   "id": "d40088482af6afe8"
  }
 ],
 "metadata": {
  "kernelspec": {
   "display_name": "Python 3",
   "language": "python",
   "name": "python3"
  },
  "language_info": {
   "codemirror_mode": {
    "name": "ipython",
    "version": 2
   },
   "file_extension": ".py",
   "mimetype": "text/x-python",
   "name": "python",
   "nbconvert_exporter": "python",
   "pygments_lexer": "ipython2",
   "version": "2.7.6"
  }
 },
 "nbformat": 4,
 "nbformat_minor": 5
}
