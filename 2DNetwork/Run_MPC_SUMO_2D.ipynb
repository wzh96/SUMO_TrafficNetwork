{
 "cells": [
  {
   "cell_type": "code",
   "id": "initial_id",
   "metadata": {
    "collapsed": true,
    "ExecuteTime": {
     "end_time": "2024-09-25T22:03:15.763048Z",
     "start_time": "2024-09-25T22:03:14.660374Z"
    }
   },
   "source": [
    "import numpy as np\n",
    "import pandas as pd\n",
    "import do_mpc\n",
    "from Data_Cleaner import data_loader_main\n",
    "from SINDy import SINDy_Dynamics\n",
    "from MPC_Controller import Flow_Dynamics_Model, MPC_Controller\n",
    "from utilis_2D import MPC_params, setup_mpc\n",
    "from pydmd import DMDc\n",
    "from utilis_2D import params\n",
    "import scipy"
   ],
   "outputs": [
    {
     "name": "stderr",
     "output_type": "stream",
     "text": [
      "C:\\Users\\weizi\\anaconda3\\envs\\SUMO\\lib\\site-packages\\do_mpc\\sysid\\__init__.py:15: UserWarning: The ONNX feature is not available. Please install the full version of do-mpc to access this feature.\n",
      "  warnings.warn('The ONNX feature is not available. Please install the full version of do-mpc to access this feature.')\n",
      "C:\\Users\\weizi\\anaconda3\\envs\\SUMO\\lib\\site-packages\\do_mpc\\opcua\\__init__.py:14: UserWarning: The opcua feature is not available. Please install the full version of do-mpc to access this feature.\n",
      "  warnings.warn('The opcua feature is not available. Please install the full version of do-mpc to access this feature.')\n"
     ]
    }
   ],
   "execution_count": 1
  },
  {
   "cell_type": "code",
   "outputs": [],
   "source": [
    "burnin_step = params['burnin_step']\n",
    "control_interval = params['control_interval']\n",
    "burnin_control_step = int(burnin_step/control_interval)"
   ],
   "metadata": {
    "collapsed": false,
    "ExecuteTime": {
     "end_time": "2024-09-25T22:03:15.778555Z",
     "start_time": "2024-09-25T22:03:15.764550Z"
    }
   },
   "id": "650873c412def854",
   "execution_count": 2
  },
  {
   "cell_type": "code",
   "source": [
    "flow_all, _, occupancy_all, flow_dt, _, occupancy_dt = data_loader_main(csv_dict='Sim_Results/Ramp_ALIANA')\n",
    "control_input = pd.read_csv('Results/Meter_Rate_ALIANA.csv')\n",
    "control_input = control_input/10\n",
    "\n",
    "occupancy_all, occupancy_dt = occupancy_all.iloc[burnin_control_step:, :], occupancy_dt.iloc[burnin_control_step:, :]\n",
    "control_input = control_input.iloc[burnin_control_step:, :]\n",
    "\n",
    "# occupancy_all, occupancy_dt = occupancy_all.iloc[:-1, :].reset_index(drop=True), occupancy_dt.iloc[:-1, :].reset_index(drop=True)\n",
    "control_input = control_input.iloc[1:,:].reset_index(drop=True)\n"
   ],
   "metadata": {
    "collapsed": false,
    "ExecuteTime": {
     "end_time": "2024-09-25T22:03:15.856681Z",
     "start_time": "2024-09-25T22:03:15.779556Z"
    }
   },
   "id": "90036bd616207204",
   "outputs": [],
   "execution_count": 3
  },
  {
   "metadata": {
    "ExecuteTime": {
     "end_time": "2024-09-25T22:03:15.872210Z",
     "start_time": "2024-09-25T22:03:15.857683Z"
    }
   },
   "cell_type": "code",
   "source": [
    "occupancy_all = np.array(occupancy_all)\n",
    "control_input = np.array(control_input)"
   ],
   "id": "8289f18f013567b1",
   "outputs": [],
   "execution_count": 4
  },
  {
   "metadata": {
    "ExecuteTime": {
     "end_time": "2024-09-25T22:03:36.796666Z",
     "start_time": "2024-09-25T22:03:36.782151Z"
    }
   },
   "cell_type": "code",
   "outputs": [
    {
     "data": {
      "text/plain": "<pydmd.dmdc.DMDc at 0x2e1584748b0>"
     },
     "execution_count": 6,
     "metadata": {},
     "output_type": "execute_result"
    }
   ],
   "execution_count": 6,
   "source": [
    "dmdc = DMDc(svd_rank=0)\n",
    "dmdc.fit(X=occupancy_all.T, I=control_input.T)"
   ],
   "id": "3b7aed4d92ebf89d"
  },
  {
   "cell_type": "code",
   "outputs": [],
   "source": [
    "B= dmdc.B"
   ],
   "metadata": {
    "collapsed": false,
    "ExecuteTime": {
     "end_time": "2024-09-25T22:18:03.108918Z",
     "start_time": "2024-09-25T22:18:03.098366Z"
    }
   },
   "id": "2c6c8ee20bab46a",
   "execution_count": 19
  },
  {
   "cell_type": "code",
   "outputs": [],
   "source": [
    "eigs = np.power(\n",
    "            dmdc.eigs, dmdc.dmd_time[\"dt\"] // dmdc.original_time[\"dt\"]\n",
    "        )"
   ],
   "metadata": {
    "collapsed": false,
    "ExecuteTime": {
     "end_time": "2024-09-25T22:18:03.730047Z",
     "start_time": "2024-09-25T22:18:03.715919Z"
    }
   },
   "id": "b53f3d90ca3cfcef",
   "execution_count": 20
  },
  {
   "cell_type": "code",
   "outputs": [],
   "source": [
    "A = np.linalg.multi_dot(\n",
    "            [dmdc.modes, np.diag(eigs), np.linalg.pinv(dmdc.modes)]\n",
    "        )"
   ],
   "metadata": {
    "collapsed": false,
    "ExecuteTime": {
     "end_time": "2024-09-25T22:18:04.211339Z",
     "start_time": "2024-09-25T22:18:04.198270Z"
    }
   },
   "id": "181dacbe3df88a63",
   "execution_count": 21
  },
  {
   "cell_type": "code",
   "outputs": [
    {
     "data": {
      "text/plain": "array([[ 1.11655779e-02, -6.68476395e-02, -6.61124734e-02,\n         3.10762157e-03, -2.13686108e-02, -2.46564357e-02,\n        -1.63357310e-02,  1.34194407e-02],\n       [-2.82601314e-02,  7.59238670e-01,  1.40318513e-01,\n        -2.42762680e-03,  3.75598601e-01,  6.40321892e-02,\n         1.90921556e-01, -4.31585510e-02],\n       [-6.78790176e-02,  3.79375097e-01,  4.03154905e-01,\n        -1.91411398e-02,  1.15187421e-01,  1.49819667e-01,\n         9.24623758e-02, -8.11600522e-02],\n       [ 3.46323787e-03, -1.52964172e-02, -2.07551110e-02,\n         1.01400762e-03, -3.66489571e-03, -7.63271921e-03,\n        -3.68840307e-03,  4.07759128e-03],\n       [-3.42411809e-04,  3.23564543e-01, -1.26915499e-02,\n         2.86772591e-03,  1.75847463e-01,  1.64247836e-03,\n         8.20042654e-02, -5.42124474e-03],\n       [-2.45500583e-02,  1.48606346e-01,  1.45288817e-01,\n        -6.81782087e-03,  4.78700888e-02,  5.42172567e-02,\n         3.63301618e-02, -2.95310330e-02],\n       [-6.55387394e-03,  1.88813389e-01,  3.19585164e-02,\n        -4.45618647e-04,  9.40460635e-02,  1.48849684e-02,\n         4.75057607e-02, -1.02074577e-02],\n       [ 1.28181852e-02, -8.59355814e-02, -7.54768242e-02,\n         3.48284855e-03, -2.95410743e-02, -2.83311585e-02,\n        -2.10841990e-02,  1.55488958e-02]])"
     },
     "execution_count": 22,
     "metadata": {},
     "output_type": "execute_result"
    }
   ],
   "source": [
    "A"
   ],
   "metadata": {
    "collapsed": false,
    "ExecuteTime": {
     "end_time": "2024-09-25T22:18:08.413786Z",
     "start_time": "2024-09-25T22:18:08.406311Z"
    }
   },
   "id": "2feb55cde9473a89",
   "execution_count": 22
  },
  {
   "cell_type": "code",
   "outputs": [
    {
     "data": {
      "text/plain": "array([[ 9.76462905e-03, -5.67243314e-03, -6.84165915e-03,\n         9.47669903e-04, -1.42811647e-04, -1.37611203e-01],\n       [-6.00677657e-02,  8.45415209e-03, -2.19757301e-02,\n        -1.61357539e-02, -6.32864050e-04,  6.10114650e-01],\n       [ 2.15887926e-01, -6.10772259e-02,  4.61698117e-03,\n         4.60295188e-02,  5.20115669e-04, -2.46722644e+00],\n       [ 4.68914896e-03, -3.44547434e-03, -5.03355732e-03,\n         1.73866567e-04, -1.09821545e-04, -7.25342425e-02],\n       [-1.39204609e-02, -1.61026826e-03, -1.37413822e-02,\n        -5.13074109e-03, -3.50703150e-04,  1.09475757e-01],\n       [-1.95756430e-02, -1.56000815e-03, -1.76170293e-02,\n        -6.94052331e-03, -4.52909364e-04,  1.60248775e-01],\n       [-1.51125180e-02, -4.45602721e-03, -2.14790643e-02,\n        -6.62560071e-03, -5.35522607e-04,  9.46386923e-02],\n       [ 5.60018154e-03, -5.17949646e-03, -8.59099241e-03,\n        -2.07329836e-04, -1.92014095e-04, -9.61456428e-02]])"
     },
     "execution_count": 23,
     "metadata": {},
     "output_type": "execute_result"
    }
   ],
   "source": [
    "B"
   ],
   "metadata": {
    "collapsed": false,
    "ExecuteTime": {
     "end_time": "2024-09-25T22:18:11.239595Z",
     "start_time": "2024-09-25T22:18:11.221078Z"
    }
   },
   "id": "7a93f9126f81e0aa",
   "execution_count": 23
  },
  {
   "cell_type": "code",
   "outputs": [],
   "source": [],
   "metadata": {
    "collapsed": false
   },
   "id": "5afea826e2ca1f3d"
  }
 ],
 "metadata": {
  "kernelspec": {
   "display_name": "Python 3",
   "language": "python",
   "name": "python3"
  },
  "language_info": {
   "codemirror_mode": {
    "name": "ipython",
    "version": 2
   },
   "file_extension": ".py",
   "mimetype": "text/x-python",
   "name": "python",
   "nbconvert_exporter": "python",
   "pygments_lexer": "ipython2",
   "version": "2.7.6"
  }
 },
 "nbformat": 4,
 "nbformat_minor": 5
}
