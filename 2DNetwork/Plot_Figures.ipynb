{
 "cells": [
  {
   "cell_type": "code",
   "execution_count": 1,
   "id": "initial_id",
   "metadata": {
    "collapsed": true,
    "ExecuteTime": {
     "end_time": "2024-08-13T15:33:36.973368Z",
     "start_time": "2024-08-13T15:33:35.843413Z"
    }
   },
   "outputs": [],
   "source": [
    "import os\n",
    "import numpy as np\n",
    "import pandas as pd\n",
    "import matplotlib.pyplot as plt\n",
    "from Data_Cleaner import data_loader_main\n",
    "from utilis_2D import params"
   ]
  },
  {
   "cell_type": "code",
   "outputs": [],
   "source": [
    "flow_all_ALIANA, speed_all_ALIANA, occupancy_all_ALIANA, flow_dt_ALIANA, speed_dt_ALIANA, occupancy_dt_ALIANA = data_loader_main(csv_dict='Sim_Results/Ramp_ALIANA')"
   ],
   "metadata": {
    "collapsed": false,
    "ExecuteTime": {
     "end_time": "2024-08-13T15:33:37.053374Z",
     "start_time": "2024-08-13T15:33:36.974370Z"
    }
   },
   "id": "549c479a314e95f8",
   "execution_count": 2
  },
  {
   "cell_type": "code",
   "outputs": [],
   "source": [
    "control_input_ALIANA = pd.read_csv('Results/Meter_Rate_ALIANA.csv')"
   ],
   "metadata": {
    "collapsed": false,
    "ExecuteTime": {
     "end_time": "2024-08-13T15:33:37.069491Z",
     "start_time": "2024-08-13T15:33:37.054376Z"
    }
   },
   "id": "b24a5245dd8339ed",
   "execution_count": 3
  },
  {
   "cell_type": "code",
   "outputs": [
    {
     "data": {
      "text/plain": "<Figure size 300x40 with 1 Axes>",
      "image/png": "[encoded data removed]"
     },
     "metadata": {},
     "output_type": "display_data"
    }
   ],
   "source": [
    "plt.figure(figsize=(3, 0.4))\n",
    "plt.plot(occupancy_all_ALIANA.iloc[:, 0], linestyle='-', label='ALINEA', linewidth=1, color = 'black')\n",
    "plt.axis('off')\n",
    "plt.savefig('Manuscript_Plots/x_0.png', dpi=300, bbox_inches='tight', transparent=True)\n",
    "plt.show()"
   ],
   "metadata": {
    "collapsed": false,
    "ExecuteTime": {
     "end_time": "2024-08-09T19:06:09.389455Z",
     "start_time": "2024-08-09T19:06:09.356943Z"
    }
   },
   "id": "62cae341b820600b",
   "execution_count": 25
  },
  {
   "cell_type": "code",
   "outputs": [
    {
     "data": {
      "text/plain": "<Figure size 300x40 with 1 Axes>",
      "image/png": "[encoded data removed]"
     },
     "metadata": {},
     "output_type": "display_data"
    }
   ],
   "source": [
    "plt.figure(figsize=(3, 0.4))\n",
    "plt.plot(occupancy_all_ALIANA.iloc[:, 1], linestyle='-', label='ALINEA', linewidth=1, color = 'red')\n",
    "plt.axis('off')\n",
    "plt.savefig('Manuscript_Plots/x_1.png', dpi=300, bbox_inches='tight', transparent=True)\n",
    "plt.show()"
   ],
   "metadata": {
    "collapsed": false,
    "ExecuteTime": {
     "end_time": "2024-08-09T19:06:58.651260Z",
     "start_time": "2024-08-09T19:06:58.564388Z"
    }
   },
   "id": "c8117346aa6cc3dd",
   "execution_count": 26
  },
  {
   "cell_type": "code",
   "outputs": [
    {
     "data": {
      "text/plain": "<Figure size 300x40 with 1 Axes>",
      "image/png": "[encoded data removed]"
     },
     "metadata": {},
     "output_type": "display_data"
    }
   ],
   "source": [
    "plt.figure(figsize=(3, 0.4))\n",
    "plt.plot(occupancy_all_ALIANA.iloc[:, 2], linestyle='-', label='ALINEA', linewidth=1, color = 'blue')\n",
    "plt.axis('off')\n",
    "plt.savefig('Manuscript_Plots/x_2.png', dpi=300, bbox_inches='tight', transparent=True)\n",
    "plt.show()"
   ],
   "metadata": {
    "collapsed": false,
    "ExecuteTime": {
     "end_time": "2024-08-09T19:07:00.531123Z",
     "start_time": "2024-08-09T19:07:00.499586Z"
    }
   },
   "id": "746a0ce7e121c5fa",
   "execution_count": 27
  },
  {
   "cell_type": "code",
   "outputs": [
    {
     "data": {
      "text/plain": "<Figure size 300x40 with 1 Axes>",
      "image/png": "[encoded data removed]"
     },
     "metadata": {},
     "output_type": "display_data"
    }
   ],
   "source": [
    "plt.figure(figsize=(3, 0.4))\n",
    "plt.plot(control_input_ALIANA.iloc[:, 2], linestyle='-', label='ALINEA', linewidth=1, color = 'maroon')\n",
    "plt.axis('off')\n",
    "plt.savefig('Manuscript_Plots/u_2.png', dpi=300, bbox_inches='tight', transparent=True)\n",
    "plt.show()"
   ],
   "metadata": {
    "collapsed": false,
    "ExecuteTime": {
     "end_time": "2024-08-09T19:45:03.105670Z",
     "start_time": "2024-08-09T19:45:03.072020Z"
    }
   },
   "id": "4c19cdd7e37b679b",
   "execution_count": 33
  },
  {
   "cell_type": "code",
   "outputs": [
    {
     "data": {
      "text/plain": "<Figure size 300x40 with 1 Axes>",
      "image/png": "[encoded data removed]"
     },
     "metadata": {},
     "output_type": "display_data"
    }
   ],
   "source": [
    "plt.figure(figsize=(3, 0.4))\n",
    "plt.plot(control_input_ALIANA.iloc[:, 1], linestyle='-', label='ALINEA', linewidth=1, color = 'green')\n",
    "plt.axis('off')\n",
    "plt.savefig('Manuscript_Plots/u_1.png', dpi=300, bbox_inches='tight', transparent=True)\n",
    "plt.show()"
   ],
   "metadata": {
    "collapsed": false,
    "ExecuteTime": {
     "end_time": "2024-08-09T19:45:13.933667Z",
     "start_time": "2024-08-09T19:45:13.896914Z"
    }
   },
   "id": "b34e290e5d5e8932",
   "execution_count": 34
  },
  {
   "cell_type": "code",
   "outputs": [
    {
     "data": {
      "text/plain": "<Figure size 300x40 with 1 Axes>",
      "image/png": "[encoded data removed]"
     },
     "metadata": {},
     "output_type": "display_data"
    }
   ],
   "source": [
    "plt.figure(figsize=(3, 0.4))\n",
    "plt.plot(occupancy_dt_ALIANA.iloc[:, 0], linestyle='-', label='ALINEA', linewidth=1, color = 'purple')\n",
    "plt.axis('off')\n",
    "plt.savefig('Manuscript_Plots/dx_0.png', dpi=300, bbox_inches='tight', transparent=True)\n",
    "plt.show()"
   ],
   "metadata": {
    "collapsed": false,
    "ExecuteTime": {
     "end_time": "2024-08-09T20:11:33.954150Z",
     "start_time": "2024-08-09T20:11:33.913574Z"
    }
   },
   "id": "1094207336d59743",
   "execution_count": 37
  },
  {
   "cell_type": "code",
   "outputs": [
    {
     "data": {
      "text/plain": "<Figure size 300x40 with 1 Axes>",
      "image/png": "[encoded data removed]"
     },
     "metadata": {},
     "output_type": "display_data"
    }
   ],
   "source": [
    "plt.figure(figsize=(3, 0.4))\n",
    "plt.plot(occupancy_dt_ALIANA.iloc[:, 1], linestyle='-', label='ALINEA', linewidth=1, color = 'y')\n",
    "plt.axis('off')\n",
    "plt.savefig('Manuscript_Plots/dx_1.png', dpi=300, bbox_inches='tight', transparent=True)\n",
    "plt.show()"
   ],
   "metadata": {
    "collapsed": false,
    "ExecuteTime": {
     "end_time": "2024-08-09T20:12:23.874831Z",
     "start_time": "2024-08-09T20:12:23.843Z"
    }
   },
   "id": "d5cbae8cbf388aea",
   "execution_count": 49
  },
  {
   "cell_type": "code",
   "outputs": [
    {
     "data": {
      "text/plain": "<Figure size 300x40 with 1 Axes>",
      "image/png": "[encoded data removed]"
     },
     "metadata": {},
     "output_type": "display_data"
    }
   ],
   "source": [
    "plt.figure(figsize=(3, 0.4))\n",
    "plt.plot(occupancy_dt_ALIANA.iloc[:, 2], linestyle='-', label='ALINEA', linewidth=1, color = 'c')\n",
    "plt.axis('off')\n",
    "plt.savefig('Manuscript_Plots/dx_2.png', dpi=300, bbox_inches='tight', transparent=True)\n",
    "plt.show()"
   ],
   "metadata": {
    "collapsed": false,
    "ExecuteTime": {
     "end_time": "2024-08-09T20:12:52.647986Z",
     "start_time": "2024-08-09T20:12:52.622940Z"
    }
   },
   "id": "2887a1dc2605173b",
   "execution_count": 50
  },
  {
   "cell_type": "code",
   "outputs": [],
   "source": [],
   "metadata": {
    "collapsed": false
   },
   "id": "911a33306479c704"
  },
  {
   "cell_type": "code",
   "outputs": [
    {
     "data": {
      "text/plain": "<Figure size 800x400 with 1 Axes>",
      "image/png": "[encoded data removed]"
     },
     "metadata": {},
     "output_type": "display_data"
    }
   ],
   "source": [
    "# Update the plot with x ticks from 0 to 20\n",
    "plt.rcParams['font.family'] = 'Times New Roman'\n",
    "plt.figure(figsize=(8, 4))\n",
    "plt.xlim(0, 25)\n",
    "plt.ylim(0, 1800)\n",
    "\n",
    "plt.plot(np.arange(0, 5), np.repeat(800,5), linestyle='-.', color = 'red')\n",
    "plt.plot(np.arange(4, 9), np.repeat(1200,5), linestyle='-.', color = 'red')\n",
    "plt.plot(np.arange(8, 13), np.repeat(1000,5), linestyle='-.', color = 'red')\n",
    "plt.plot(np.arange(12, 17), np.repeat(300,5), linestyle='-.', color = 'red')\n",
    "plt.plot(np.arange(16, 21), np.repeat(500,5), linestyle='-.', color = 'red', label = 'On-Ramp 1')\n",
    "\n",
    "plt.plot(np.arange(0, 5), np.repeat(1000,5), linestyle='-.', color = 'blue')\n",
    "plt.plot(np.arange(4, 9), np.repeat(700,5), linestyle='-.', color = 'blue')\n",
    "plt.plot(np.arange(8, 13), np.repeat(600,5), linestyle='-.', color = 'blue')\n",
    "plt.plot(np.arange(12, 17), np.repeat(200,5), linestyle='-.', color = 'blue')\n",
    "plt.plot(np.arange(16, 21), np.repeat(900,5), linestyle='-.', color = 'blue', label = 'On-Ramp 2')\n",
    "\n",
    "nodes = [4, 8, 12, 16, 20]  # x-values where segments meet\n",
    "# y_min = 300  # Minimum y-value to extend the vertical line\n",
    "# y_max = 1200  # Maximum y-value to extend the vertical line\n",
    "\n",
    "for node in nodes:\n",
    "    plt.axvline(x=node, color='grey', linestyle='--', linewidth = '1')\n",
    "\n",
    "# plt.xlabel('Simulation Time Step (s)', fontsize = 14)\n",
    "# plt.ylabel('Ramp Metering Rate (vph)', fontsize = 14)\n",
    "plt.xticks(np.arange(0, 25, 1), [])  # Set the ticks but no labels\n",
    "plt.yticks(np.arange(0, 1800, 200), [])  # Set the ticks but no labels\n",
    "plt.grid(False)\n",
    "plt.legend(fontsize = 15, bbox_to_anchor=(0.8, 0.3))\n",
    "ax = plt.gca()\n",
    "ax.spines['top'].set_visible(False)\n",
    "ax.spines['right'].set_visible(False)\n",
    "\n",
    "# y_values = [1600, 1600, 1600, 1600, 1600]  # y-values of each segment\n",
    "# x_positions = [2, 6, 10, 14, 18]  # x-position for the text\n",
    "# \n",
    "# for x, y in zip(x_positions, y_values):\n",
    "#     plt.text(x, y + 50, 'Control step', color='black', fontsize=12, ha='center')\n",
    "\n",
    "plt.savefig('Manuscript_Plots/MPC.png', dpi=300, bbox_inches='tight', transparent=True)\n",
    "# Display the updated plot\n",
    "plt.show()\n"
   ],
   "metadata": {
    "collapsed": false,
    "ExecuteTime": {
     "end_time": "2024-08-13T21:02:07.076569Z",
     "start_time": "2024-08-13T21:02:06.879204Z"
    }
   },
   "id": "57845b48b78a9c0a",
   "execution_count": 98
  },
  {
   "cell_type": "code",
   "outputs": [],
   "source": [],
   "metadata": {
    "collapsed": false
   },
   "id": "71c534da914b1e88"
  }
 ],
 "metadata": {
  "kernelspec": {
   "display_name": "Python 3",
   "language": "python",
   "name": "python3"
  },
  "language_info": {
   "codemirror_mode": {
    "name": "ipython",
    "version": 2
   },
   "file_extension": ".py",
   "mimetype": "text/x-python",
   "name": "python",
   "nbconvert_exporter": "python",
   "pygments_lexer": "ipython2",
   "version": "2.7.6"
  }
 },
 "nbformat": 4,
 "nbformat_minor": 5
}
